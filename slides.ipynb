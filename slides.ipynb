{
 "cells": [
  {
   "cell_type": "markdown",
   "metadata": {},
   "source": [
    "# Analise de Dados de Redes Sociais com Python\n",
    "\n",
    "\n",
    "> Gileno \n",
    "\n",
    "> Lincoln de Macêdo"
   ]
  },
  {
   "cell_type": "markdown",
   "metadata": {},
   "source": [
    "# Pontos a considerar\n",
    "\n",
    "* todos os governos ao longo dos séculos fizeram pesquisas para coletar dados de sua população para ajudar na adminsitração pública (incluindo até mesmo o império romano e os sumérios)\n",
    "\n",
    "* NSA existe desde a Guerra Fria\n",
    "\n",
    "* A internet e os aparelhos eletrônicos só facilitaram as coisas"
   ]
  },
  {
   "cell_type": "markdown",
   "metadata": {
    "slideshow": {
     "slide_type": "subslide"
    }
   },
   "source": [
    "> ## O Mundo Assombrados Pelos Demônios - Carl Sagan - 1995\n",
    "\n",
    "> Essa organização (NSA) monitora  telefones,  rádios  e  outros  meios  de  comunicação  tanto  de  amigos como de    adversários    dos    Estados    Unidos.    Sub-repticiamente,    lê    a correspondÍncia  do  mundo.  Seu  movimento  de  interceptações  diárias  é imenso.  Em  Èpocas  de  tensão,  enormes  grupos  de  funcionários  da  NSA, fluentes  nas  línguas  importantes,  ficam  sentados  com  fones  de  ouvido, monitorando  em  tempo  real  todas  as  informações,  desde  comandos  cifrados do  estado-maior  da  nação-alvo  até  conversas  íntimas.  Em  relação  a  outros materiais,  há  palavras-chave  que  fazem  os  computadores  selecionarem,  para escrutínio  humano,  mensagens  ou  conversas  específicas  de  interesse  atual urgente.  Tudo  É  armazenado,  de  modo que  seja  retrospectivamente  possível voltar  às  fitas  magnéticas  -  para  se pesquisar  a  primeira  aparição  de  um código,  por  exemplo,  ou  a responsabilidade  de  um  comando  numa  crise. Algumas das interceptações são feitas a partir de postos de escuta em países vizinhos (a Turquia no caso da Rússia, a Índia no caso da China), em aviões e navios que estejam patrulhando por perto,  ou em satélites furões na órbita da Terra."
   ]
  },
  {
   "cell_type": "markdown",
   "metadata": {
    "slideshow": {
     "slide_type": "subslide"
    }
   },
   "source": [
    "### [INTERCEPTION OF DIGITAL AND OTHER COMMUNICATIONS [definições] ](https://en.wikisource.org/wiki/Communications_Assistance_for_Law_Enforcement_Act)\n",
    "\n",
    " ```(2) The term ``call-identifying information´´ means dialing or signaling information that identifies the origin, direction, destination, or termination of each communication generated or received by a subscriber by means of any equipment, facility, or service of a telecommunications carrier.```\n",
    " \n",
    "```(4) The term ``electronic messaging services´´ means software-based services that enable the sharing of data, images, sound, writing, or other information among computing devices controlled by the senders or recipients of the messages.```"
   ]
  },
  {
   "cell_type": "markdown",
   "metadata": {},
   "source": [
    "### Quem se interessa por isso?\n",
    "\n",
    "- governos\n",
    "- recursos humanos / administração\n",
    "- publicidade/propaganda/marketing\n",
    "- jornalismo de dados\n",
    "- datativistas\n",
    "- pessoas a fim de fazer engenharia social\n",
    "- ..."
   ]
  },
  {
   "cell_type": "markdown",
   "metadata": {},
   "source": [
    "## Formas de usar tanta informação\n",
    "### ~> antes da internet"
   ]
  },
  {
   "cell_type": "markdown",
   "metadata": {
    "slideshow": {
     "slide_type": "subslide"
    }
   },
   "source": [
    "> ## Propaganda - Edward Bernays - 1928\n",
    "\n",
    "> À medida que a civilização se tornou mais complexa e ficou patente a necessidade de um governo invisível, foram inventados os meios técnicos pelos quais a opinião pode ser controlada. A democracia é administrada por uma minoria inteligente que sabe como regular, controlar e guiar as massas.\n"
   ]
  },
  {
   "cell_type": "markdown",
   "metadata": {
    "slideshow": {
     "slide_type": "subslide"
    }
   },
   "source": [
    "> ## Vigiar e Punir - Michel Foucault - 1975\n",
    "\n",
    "> O Panóptico é um local privilegiado para tornar possível a experiência com homens, e para analisar com toda certeza as transformações que se pode obter neles. O Panóptico pode até constituir-se em aparelho de controle sobre seus próprios mecanismos.\n",
    "\n",
    "\n",
    "> O Panóptico funciona como uma espécie de laboratório de poder. Graças a seus mecanismos de observação, ganha em eficácia e em capacidade de penetração no comportamento dos homens; um aumento de saber vem se implantar em todas as frentes do poder, descobrindo objetos que devem ser conhecidos em todas as superfícies onde este se exerça."
   ]
  },
  {
   "cell_type": "markdown",
   "metadata": {},
   "source": [
    "> ## A Liberdade - Zygmunt Bauman - 1988\n",
    "\n",
    "> A necessidade de liberdade e a necessidade de interação social -- inseparáveis, embora por vezes em desacordo uma com a outra -- parecem ser uma faceta permanente da condição humana. De uma maneira geral, a profundidade com que cada uma delas é sentida, depende do grau em que a outra é realizada ou exagerada. O equilíbrio entre elas modifica-se quando passamos de uma era história para outra, ou de uma sociedade para outra. \n",
    "\n"
   ]
  },
  {
   "cell_type": "markdown",
   "metadata": {},
   "source": [
    "# Vamos analisar a API do twitter e ver no que dá..."
   ]
  },
  {
   "cell_type": "markdown",
   "metadata": {},
   "source": [
    "## Social Network Analysis\n",
    "\n",
    "* Densidade\n",
    "* Centralidade\n",
    "* Força dos laços\n",
    "* semelhanças entre indivíduos\n",
    "* tendências a quem cada um se conecta\n",
    "* ..."
   ]
  },
  {
   "cell_type": "markdown",
   "metadata": {},
   "source": [
    "## Teoria das Redes Complexas\n",
    "\n",
    "* Sincronicidade\n",
    "* Velocidade de transmissão\n",
    "* Bolhas"
   ]
  },
  {
   "cell_type": "markdown",
   "metadata": {},
   "source": [
    "# Reinterpretando dados\n",
    "\n",
    "### Imaginando outros cenários e estruturas"
   ]
  },
  {
   "cell_type": "markdown",
   "metadata": {},
   "source": [
    "* estatística\n",
    "    - densidade\n",
    "    - amostragem\n",
    "* big data / IA\n",
    "    - clusters\n",
    "    - sistemas de recomendação\n",
    "    - regressão"
   ]
  },
  {
   "cell_type": "markdown",
   "metadata": {},
   "source": [
    "# em que ponto nós estamos?\n",
    "\n",
    "* [o mercado de fake news (página 213)](https://www.dropbox.com/s/hgo29ziq4tgxsff/Social%20Media%20and%20Fake%20News%20in%20the%202016_p213%20.pdf?dl=0)\n",
    "* [o mercado de bots](http://www.bbc.com/portuguese/brasil-42172146)\n",
    "* bolhas ideológicas e extremismo [|link1|](http://citeseerx.ist.psu.edu/viewdoc/download?doi=10.1.1.1019.3951&rep=rep1&type=pdf)\n",
    "* [jornalismo de dados](https://www.datajournalismawards.org/2018-winners/)\n",
    "* [datativismo](https://data-activism.net/publications/)"
   ]
  }
 ],
 "metadata": {
  "kernelspec": {
   "display_name": "Python 3",
   "language": "python",
   "name": "python3"
  },
  "language_info": {
   "codemirror_mode": {
    "name": "ipython",
    "version": 3
   },
   "file_extension": ".py",
   "mimetype": "text/x-python",
   "name": "python",
   "nbconvert_exporter": "python",
   "pygments_lexer": "ipython3",
   "version": "3.6.5"
  }
 },
 "nbformat": 4,
 "nbformat_minor": 2
}
